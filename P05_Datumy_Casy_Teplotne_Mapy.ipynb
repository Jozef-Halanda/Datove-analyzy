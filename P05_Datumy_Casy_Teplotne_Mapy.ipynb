{
 "cells": [
  {
   "cell_type": "markdown",
   "id": "c8e655a4",
   "metadata": {},
   "source": [
    "# Kurz Python Jupyter - 5. časť"
   ]
  },
  {
   "cell_type": "markdown",
   "id": "4b59ed87",
   "metadata": {},
   "source": [
    "Dátum (date) + čas (time) = datetime, Teplotná mapa (Heat maps) - Matplotlib + Pandas"
   ]
  },
  {
   "cell_type": "markdown",
   "id": "e0ad8c65",
   "metadata": {},
   "source": [
    "# 01. Dátum + čas"
   ]
  },
  {
   "cell_type": "code",
   "execution_count": 56,
   "id": "f9fc66fa",
   "metadata": {},
   "outputs": [
    {
     "name": "stdout",
     "output_type": "stream",
     "text": [
      "Dnes je --> 2023-02-28 19:12:12.753680\n",
      "Dnes je --> 2023-02-28 19:12:12.754867\n",
      "Dnes je --> 2023-02-28 19:12:12.754867\n",
      "Dnes je rok --> 2023\n",
      "Dnes je mesiac (ciselne) --> 2\n",
      "Dnes je den(ciselne) --> 28\n",
      "Dnes je mesiac (textovo - nazov) --> February\n",
      "Dnes je den (textovo - nazov) --> Tuesday\n",
      "\n",
      "Dnes je cas - hodin  --> 19\n",
      "Dnes je cas - minut  --> 12\n",
      "Dnes je cas - sekund  --> 12\n",
      "Dnes je cas - microsekund  --> 754867\n",
      "\n",
      "dd.mm.yyyy mm/dd/yyyy yyyy-mm-dd\n",
      "Skladanie cez str funkciu --> 28.2.2023\n",
      "Skladanie cez repr funkciu --> 28.2.2023\n",
      "Skladanie cez strftime funkciu --> 28.02.2023\n",
      "\n",
      "H:M:S\n",
      "Cas --> 19:12:12:754867 PM \n",
      "Cas --> 07 PM\n",
      "\n",
      "Aky datovy typ je den (day) <class 'int'>\n",
      "Aky datovy typ je rok (year) <class 'int'>\n"
     ]
    }
   ],
   "source": [
    "import datetime as dt\n",
    "print(\"Dnes je -->\", datetime.datetime.today())\n",
    "datum_dnes = datetime.datetime.today()\n",
    "print(\"Dnes je -->\", datum_dnes)\n",
    "print(\"Dnes je -->\", dt.datetime.today())\n",
    "\n",
    "print(\"Dnes je rok -->\", datum_dnes.year)\n",
    "print(\"Dnes je mesiac (ciselne) -->\", datum_dnes.month)\n",
    "print(\"Dnes je den(ciselne) -->\", datum_dnes.day)\n",
    "\n",
    "print(\"Dnes je mesiac (textovo - nazov) -->\", datum_dnes.strftime(\"%B\"))\n",
    "print(\"Dnes je den (textovo - nazov) -->\", datum_dnes.strftime(\"%A\"))\n",
    "\n",
    "print(\"\\nDnes je cas - hodin  -->\", datum_dnes.hour)\n",
    "print(\"Dnes je cas - minut  -->\", datum_dnes.minute)\n",
    "print(\"Dnes je cas - sekund  -->\", datum_dnes.second)\n",
    "print(\"Dnes je cas - microsekund  -->\", datum_dnes.microsecond)\n",
    "\n",
    "\n",
    "print(\"\\ndd.mm.yyyy mm/dd/yyyy yyyy-mm-dd\")\n",
    "print(\"Skladanie cez str funkciu -->\", str(datum_dnes.day) + \".\" + str(datum_dnes.month) + \".\" + str(datum_dnes.year))\n",
    "print(\"Skladanie cez repr funkciu -->\", repr(datum_dnes.day) + \".\" + repr(datum_dnes.month) + \".\" + repr(datum_dnes.year))\n",
    "print(\"Skladanie cez strftime funkciu -->\", datum_dnes.strftime(\"%d.%m.%Y\"))\n",
    "print(\"\\nH:M:S\")\n",
    "print(\"Cas -->\", datum_dnes.strftime(\"%H:%M:%S:%f %p %z\"))\n",
    "print(\"Cas -->\", datum_dnes.strftime(\"%I %p\"))\n",
    "\n",
    "# print(`(datum_dnes.day)` + \".\" + `(datum_dnes.month)` + \".\" + `(datum_dnes.year)`)\n",
    "print(\"\\nAky datovy typ je den (day)\", type(datum_dnes.day))\n",
    "print(\"Aky datovy typ je rok (year)\", type(datum_dnes.year))\n"
   ]
  },
  {
   "cell_type": "markdown",
   "id": "c0ee53ce",
   "metadata": {},
   "source": [
    "# 02. Úvodzovky (quotes)"
   ]
  },
  {
   "cell_type": "code",
   "execution_count": 38,
   "id": "6f2435fc",
   "metadata": {},
   "outputs": [
    {
     "name": "stdout",
     "output_type": "stream",
     "text": [
      "1. Maria\n",
      "2. Maria\n",
      "It's alive\n",
      "It's alive\n",
      "It\"s alive\n",
      "\"Zjedz svoju veceru\", povedala mama.\n",
      "Monika len ticho povedala: „takto sa programuje v Pythone“ \n",
      "Monika len ticho povedala: \"takto sa programuje v Pythone\"\n"
     ]
    },
    {
     "data": {
      "text/plain": [
       "'\\n     Tento script umoznuje vztvorit teplotnu mapu z ...\\n     @autor Miroslav Reiter\\n     @version 1.0\\n'"
      ]
     },
     "execution_count": 38,
     "metadata": {},
     "output_type": "execute_result"
    }
   ],
   "source": [
    "# '' jednoduche uvodzovky - single quotes - apostrofy\n",
    "print('1. Maria')\n",
    "# \"\" Dvojite uvodzovky - double quotes\n",
    "print(\"2. Maria\")\n",
    "# `` Spatna uvodzovka - backticks\n",
    "# print(`\"Karol\"`)\n",
    "# print(`5`)\n",
    "\n",
    "# Escapeovanie / escaping / escape sequences\n",
    "print(\"It's alive\")\n",
    "# Spatne lomitko \\ backslash \\\\ alt + 92 \\\\\n",
    "print('It\\'s alive')\n",
    "print(\"It\\\"s alive\")\n",
    "print(\"\\\"Zjedz svoju veceru\\\", povedala mama.\")\n",
    "print(\"Monika len ticho povedala: „takto sa programuje v Pythone“ \")\n",
    "print(\"Monika len ticho povedala: \\\"takto sa programuje v Pythone\\\"\")\n",
    "# Trojite uvodzovky - docstring documentation string\n",
    "# '''Dokumentacia - dokumentacny retazec'''\n",
    "'''\n",
    "     Tento script umoznuje vytvorit teplotnu mapu z ...\n",
    "     @autor Miroslav Reiter\n",
    "     @version 1.0\n",
    "'''\n",
    "\n"
   ]
  },
  {
   "cell_type": "markdown",
   "id": "81a28767",
   "metadata": {},
   "source": [
    "# 03. Dátumová aritmetika"
   ]
  },
  {
   "cell_type": "code",
   "execution_count": 13,
   "id": "e005cb07",
   "metadata": {},
   "outputs": [
    {
     "name": "stdout",
     "output_type": "stream",
     "text": [
      "Den 1 --> 2023-05-10\n",
      "Den 1 Zaciatok projekt--> Wed May 10 00:00:00 2023\n",
      "Typ Den 1 --> <class 'datetime.date'>\n",
      "Den 2 Koniec projekt--> Thu Aug 10 00:00:00 2023\n",
      "Rozdiel 2 dni --> 92 days, 0:00:00\n",
      "Dnes je --> 2023-03-01\n",
      "Presne 4 dni --> 4 days, 0:00:00\n",
      "Pred 4 dnami --> 2023-02-25\n",
      "Po 4 dnoch --> 2023-03-05\n"
     ]
    }
   ],
   "source": [
    "import datetime\n",
    "\n",
    "den1 = datetime.date(2023, 5, 10)\n",
    "print(\"Den 1 -->\", den1)\n",
    "print(\"Den 1 Zaciatok projekt-->\", den1.ctime())\n",
    "print(\"Typ Den 1 -->\", type (den1))\n",
    "\n",
    "den2 = datetime.date(2023, 8, 10)\n",
    "print(\"Den 2 Koniec projekt-->\", den2.ctime())\n",
    "\n",
    "print(\"Rozdiel 2 dni -->\", den2 - den1)\n",
    "\n",
    "datum_aktualny = datetime.date.today()\n",
    "print(\"Dnes je -->\", datum_aktualny)\n",
    "\n",
    "pocet_dni = datetime.timedelta(days=4)\n",
    "print(\"Presne 4 dni -->\", pocet_dni)\n",
    "pred_4_dnami = datum_aktualny - pocet_dni\n",
    "print(\"Pred 4 dnami -->\", pred_4_dnami)\n",
    "\n",
    "po_4_dnoch = datum_aktualny + pocet_dni\n",
    "print(\"Po 4 dnoch -->\", po_4_dnoch)"
   ]
  },
  {
   "cell_type": "markdown",
   "id": "63ecbeea",
   "metadata": {},
   "source": [
    "# 04. Teplotné mapy (heat maps)"
   ]
  },
  {
   "cell_type": "code",
   "execution_count": 23,
   "id": "2b286ffe",
   "metadata": {},
   "outputs": [
    {
     "name": "stdout",
     "output_type": "stream",
     "text": [
      "    A  B  C  D\n",
      "I1  1  2  3  4\n",
      "I2  1  2  3  4\n",
      "I3  1  2  3  4\n",
      "I4  1  2  3  4\n"
     ]
    },
    {
     "data": {
      "image/png": "[encoded data removed]",
      "text/plain": [
       "<Figure size 640x480 with 1 Axes>"
      ]
     },
     "metadata": {},
     "output_type": "display_data"
    },
    {
     "name": "stdout",
     "output_type": "stream",
     "text": [
      "    A  B  C  D\n",
      "I1  1  2  3  4\n",
      "I2  1  2  3  4\n",
      "I3  1  2  3  4\n",
      "I4  1  2  3  4\n"
     ]
    },
    {
     "data": {
      "image/png": "[encoded data removed]",
      "text/plain": [
       "<Figure size 640x480 with 1 Axes>"
      ]
     },
     "metadata": {},
     "output_type": "display_data"
    }
   ],
   "source": [
    "from pandas import DataFrame \n",
    "import matplotlib.pyplot as plt\n",
    "\n",
    "# Zoznam [] list\n",
    "# Mnozina {hodnota} value Set\n",
    "# Slovnik {kluc:hodnota} key:value Dictionary\n",
    "\n",
    "\n",
    "vstupne_data = [{1,3,2,4},{1,3,2,4},{1,3,2,4},{1,3,2,4}]\n",
    "# Riadky / rows zaznamy - records\n",
    "indexy = [\"I1\", \"I2\", \"I3\", \"I4\"]\n",
    "# Columns / polia - fields\n",
    "stlpce = [\"A\", \"B\", \"C\", \"D\"]\n",
    "\n",
    "dataframe = DataFrame(vstupne_data, index = indexy, columns = stlpce)\n",
    "print(dataframe)\n",
    "plt.pcolor(dataframe)\n",
    "plt.title(\"Teplotna mapa 1\")\n",
    "plt.show()\n",
    "\n",
    "\n",
    "vstupne_data = [{1,3,2,7,5},{5,2,8,5,1},{6,1,3,5,4},{1,5,9,3,2},{1,4,2,3,8}]\n",
    "indexy = [\"1\", \"2\", \"3\", \"4\", \"5\"]\n",
    "# Columns / polia - fields\n",
    "stlpce = [\"S1\", \"S2\", \"S3\", \"S4\", \"S5\"]\n",
    "dataframe2 = DataFrame(vstupne_data, index = indexy, columns = stlpce)\n",
    "print(dataframe)\n",
    "plt.pcolor(dataframe2)\n",
    "plt.title(\"Teplotna mapa 2\")\n",
    "plt.show()\n"
   ]
  },
  {
   "cell_type": "code",
   "execution_count": 27,
   "id": "eaa822f5",
   "metadata": {},
   "outputs": [
    {
     "data": {
      "image/png": "[encoded data removed]",
      "text/plain": [
       "<Figure size 640x480 with 2 Axes>"
      ]
     },
     "metadata": {},
     "output_type": "display_data"
    }
   ],
   "source": [
    "import matplotlib.pyplot as plt\n",
    "import numpy as np\n",
    "from matplotlib.colors import LogNorm\n",
    "\n",
    "\n",
    "Z = np.random.rand(6, 10)\n",
    "\n",
    "fig, (ax0, ax1) = plt.subplots(2, 1)\n",
    "\n",
    "c = ax0.pcolor(Z)\n",
    "ax0.set_title('default: no edges')\n",
    "\n",
    "c = ax1.pcolor(Z, edgecolors='k', linewidths=0)\n",
    "ax1.set_title('thick edges')\n",
    "\n",
    "fig.tight_layout()\n",
    "plt.show()"
   ]
  },
  {
   "cell_type": "code",
   "execution_count": null,
   "id": "2910362c",
   "metadata": {},
   "outputs": [],
   "source": []
  }
 ],
 "metadata": {
  "kernelspec": {
   "display_name": "Python 3 (ipykernel)",
   "language": "python",
   "name": "python3"
  },
  "language_info": {
   "codemirror_mode": {
    "name": "ipython",
    "version": 3
   },
   "file_extension": ".py",
   "mimetype": "text/x-python",
   "name": "python",
   "nbconvert_exporter": "python",
   "pygments_lexer": "ipython3",
   "version": "3.9.13"
  }
 },
 "nbformat": 4,
 "nbformat_minor": 5
}
