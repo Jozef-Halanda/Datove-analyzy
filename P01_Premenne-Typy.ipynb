{
 "cells": [
  {
   "cell_type": "markdown",
   "id": "47921ef5",
   "metadata": {},
   "source": [
    "#01. Výpis, tlač"
   ]
  },
  {
   "cell_type": "code",
   "execution_count": 3,
   "id": "fa0f7e2c",
   "metadata": {},
   "outputs": [
    {
     "name": "stdout",
     "output_type": "stream",
     "text": [
      "Its alive\n"
     ]
    }
   ],
   "source": [
    "print(\"Its alive\");"
   ]
  },
  {
   "cell_type": "markdown",
   "id": "a0516fc9",
   "metadata": {},
   "source": [
    "# 02. Premenné a dátové typy"
   ]
  },
  {
   "cell_type": "code",
   "execution_count": 10,
   "id": "eb8e47da",
   "metadata": {},
   "outputs": [
    {
     "name": "stdout",
     "output_type": "stream",
     "text": [
      "Ahoj Adam\n",
      "Ahoj Adam\n",
      "Do Veľkej noci je ešte 38 dní!\n"
     ]
    }
   ],
   "source": [
    "# Jednoriatkový komentár (poznámky, odkazy)\n",
    "# Reťazec (str - string)\n",
    "menoKlient = \"Adam\";\n",
    "print(\"Ahoj\", menoKlient);\n",
    "print(\"Ahoj \" + menoKlient);\n",
    "\n",
    "# Celé číslo (int - integer)\n",
    "pocetDniVelkaNoc = 38;\n",
    "print(\"Do Veľkej noci je ešte\", pocetDniVelkaNoc, \"dní!\");"
   ]
  },
  {
   "cell_type": "code",
   "execution_count": null,
   "id": "876c4b2f",
   "metadata": {},
   "outputs": [],
   "source": []
  }
 ],
 "metadata": {
  "kernelspec": {
   "display_name": "Python 3 (ipykernel)",
   "language": "python",
   "name": "python3"
  },
  "language_info": {
   "codemirror_mode": {
    "name": "ipython",
    "version": 3
   },
   "file_extension": ".py",
   "mimetype": "text/x-python",
   "name": "python",
   "nbconvert_exporter": "python",
   "pygments_lexer": "ipython3",
   "version": "3.9.13"
  }
 },
 "nbformat": 4,
 "nbformat_minor": 5
}
